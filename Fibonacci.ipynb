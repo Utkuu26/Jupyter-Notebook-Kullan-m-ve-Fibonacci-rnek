{
 "cells": [
  {
   "cell_type": "markdown",
   "metadata": {},
   "source": [
    "Youtube Videolu Anlatım Linki: https://www.youtube.com/watch?v=T_Fn_CBA8bI&t=173s"
   ]
  },
  {
   "cell_type": "markdown",
   "metadata": {},
   "source": [
    "\n",
    "# Problem1: 0'dan başlayıp istediğimiz sayıya kadar giden fibonacci serisi oluşuturmak ve girdiğimiz değer kadar elemanı yazdırmak.\n",
    "\n",
    "Fibonacci Serisi: 0, 1, 1, 2, 3, 5, 8, 13, 21, 34, 55, 89, 144, 233, 377, 610, 987, 1597, 2584, 4181, 6765…\n"
   ]
  },
  {
   "cell_type": "code",
   "execution_count": 1,
   "metadata": {},
   "outputs": [],
   "source": [
    "\n",
    "def fiboseri(n):\n",
    "    \n",
    "    ilkEleman = 0\n",
    "    ikinciEleman = 1\n",
    "    \n",
    "    if n == 1:\n",
    "        print(ilkEleman)\n",
    "                     \n",
    "    else:\n",
    "        print(ilkEleman)\n",
    "        print(ikinciEleman)\n",
    "        \n",
    "        for i in range(2,n):\n",
    "            \n",
    "            sonrakiEleman = ilkEleman + ikinciEleman \n",
    "            print(sonrakiEleman)\n",
    "            \n",
    "            ilkEleman = ikinciEleman\n",
    "            ikinciEleman = sonrakiEleman\n",
    "             "
   ]
  },
  {
   "cell_type": "code",
   "execution_count": 4,
   "metadata": {},
   "outputs": [
    {
     "name": "stdout",
     "output_type": "stream",
     "text": [
      "0\n",
      "1\n",
      "1\n",
      "2\n",
      "3\n",
      "5\n",
      "8\n",
      "13\n",
      "21\n",
      "34\n",
      "55\n",
      "89\n",
      "144\n",
      "233\n",
      "377\n",
      "610\n",
      "987\n",
      "1597\n",
      "2584\n",
      "4181\n"
     ]
    }
   ],
   "source": [
    "fiboseri(20)"
   ]
  },
  {
   "cell_type": "markdown",
   "metadata": {},
   "source": [
    "\n",
    "# Problem2: Kullanıcı tarafından girilen iki sayının arkadaş olup olmadığını tespit eden fonksiyon yazıdrmak.\n",
    "\n",
    "İki sayı birbirinin kendisi hariç pozitif bölenleri toplamına eşitse bu sayılara arkadaş sayılar denir. En küçük arkadaş sayı çifti 200 ve 284’tür. Bu iki sayı arkadaş sayıdır çünkü 220’nin kendisi hariç pozitif bölenlerinin toplamı 284’e, 284’ün kendisi hariç pozitif bölenlerinin \n",
    "toplamı 220’ye eşittir. \n",
    "\n",
    "220’nin kendisi hariç pozitif bölenlerinin toplamı : \n",
    "1 + 2 + 4 + 5 + 10 + 11 + 20 + 22 + 44 + 55 + 110 = 284\n",
    "\n",
    "284’ün kendisi hariç pozitif bölenlerinin toplamı : \n",
    "1 + 2 + 4 + 71 + 142 = 220\n",
    "\n",
    "Bir arkadaş sayı örneği daha: 1184 ve 1210\n"
   ]
  },
  {
   "cell_type": "code",
   "execution_count": 8,
   "metadata": {},
   "outputs": [
    {
     "name": "stdout",
     "output_type": "stream",
     "text": [
      "İlk sayı değerini giriniz.5\n",
      "İkinici sayı değerini giriniz.41\n",
      "İki sayı arkadaş sayılar değillerdir.\n"
     ]
    }
   ],
   "source": [
    "ilkSayi = int(input(\"İlk sayı değerini giriniz.\"))\n",
    "ikinciSayi = int(input(\"İkinici sayı değerini giriniz.\"))\n",
    "\n",
    "ilkToplam = 0\n",
    "ikinciToplam = 0\n",
    "\n",
    "for i in range(1,ilkSayi):\n",
    "    if ilkSayi % i == 0:\n",
    "        ilkToplam += i\n",
    "        \n",
    "for i in range(1,ikinciSayi):\n",
    "    if ikinciSayi % i == 0:\n",
    "        ikinciToplam +=i\n",
    "        \n",
    "if ilkToplam == ikinciSayi and ikinciToplam == ilkSayi:\n",
    "    print(\"İki sayı arkadaş sayılardır.\")\n",
    "    \n",
    "else:\n",
    "    print(\"İki sayı arkadaş sayılar değillerdir.\")\n",
    "    "
   ]
  },
  {
   "cell_type": "code",
   "execution_count": null,
   "metadata": {},
   "outputs": [],
   "source": []
  }
 ],
 "metadata": {
  "kernelspec": {
   "display_name": "Python 3",
   "language": "python",
   "name": "python3"
  },
  "language_info": {
   "codemirror_mode": {
    "name": "ipython",
    "version": 3
   },
   "file_extension": ".py",
   "mimetype": "text/x-python",
   "name": "python",
   "nbconvert_exporter": "python",
   "pygments_lexer": "ipython3",
   "version": "3.8.5"
  }
 },
 "nbformat": 4,
 "nbformat_minor": 4
}
